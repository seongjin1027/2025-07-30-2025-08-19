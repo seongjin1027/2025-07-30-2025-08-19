{
 "cells": [
  {
   "cell_type": "markdown",
   "metadata": {},
   "source": [
    "사용자로부터 3개의 숫자를 입력받아, 이를 튜플로 만든 후 최소값과 최대값을 출력하는 함수 min_max를 작성하세요."
   ]
  },
  {
   "cell_type": "markdown",
   "metadata": {},
   "source": [
    "def min_max():\n",
    "nums = tuple(int(input(f{i+1}번째 숫자를 입력하세요: \")) for i in range(3))\n",
    "print(f\"입력한 숫자들: {nums}\")\n",
    "print(f\"최소값: {min(nums)}\")\n",
    "print(f\"최대값: {max(nums)}\")"
   ]
  }
 ],
 "metadata": {
  "language_info": {
   "name": "python"
  }
 },
 "nbformat": 4,
 "nbformat_minor": 2
}
