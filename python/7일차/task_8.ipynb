{
 "cells": [
  {
   "cell_type": "markdown",
   "metadata": {},
   "source": [
    "여러분이 자주 사용하는 수학적 연산<br>\n",
    "(예: 삼각형 넓이, 원의 넓이, 직육면체의 넓이)을 수행하는 함수들을 포함하는 mymath.py라는 이름의 모듈을 만드세요. \n",
    "\n",
    "이 모듈을 사용하여 작성된 함수들을 실제로 임포트하고 사용하는 간단한 프로그램을 작성하세요."
   ]
  },
  {
   "cell_type": "markdown",
   "metadata": {},
   "source": [
    "def triangle_area(base,height):\n",
    "    return base*height/2\n",
    "def circle_area(radius):\n",
    "    import math\n",
    "    return math.pi*radius**2\n",
    "def cuboid_area(length,width,height):\n",
    "    return 2*(length*width+width*height+height*length)\n"
   ]
  },
  {
   "metadata": {},
   "cell_type": "code",
   "outputs": [],
   "execution_count": null,
   "source": [
    "import mymath\n",
    "print(\"삼각형 넓이:\",mymath.triangle_area(10,5))\n",
    "print(\"원의 넓이:\",mymath.circle_area(7))\n",
    "print(\"직육면체 넓이:\",mymath.cuboid_area(2,3,4))\n"
   ]
  }
 ],
 "metadata": {
  "language_info": {
   "name": "python"
  }
 },
 "nbformat": 4,
 "nbformat_minor": 2
}
