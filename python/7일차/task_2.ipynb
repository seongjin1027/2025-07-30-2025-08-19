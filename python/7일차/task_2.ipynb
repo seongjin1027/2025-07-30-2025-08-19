{
 "cells": [
  {
   "cell_type": "markdown",
   "metadata": {},
   "source": [
    "파일을 읽어서 내용을 출력하는 프로그램을 작성하세요. \n",
    "\n",
    "- 파일이 존재하지 않을 때 발생하는 FileNotFoundError를 처리\n",
    "- 파일이 존재하지 않을 경우 \"파일을 찾을 수 없습니다.\"라는 메시지를 출력"
   ]
  },
  {
   "metadata": {},
   "cell_type": "code",
   "outputs": [],
   "execution_count": null,
   "source": [
    "try:\n",
    "    file_name = input(\"읽을 파일 이름을 입력하세요: \")\n",
    "    with open(file_name, \"r\", encoding=\"utf-8\") as file:\n",
    "        content = file.read()\n",
    "        print(\"파일 내용:\")\n",
    "        print(content)\n",
    "except FileNotFoundError:\n",
    "    print(\"파일을 찾을 수 없습니다\")"
   ]
  }
 ],
 "metadata": {
  "language_info": {
   "name": "python"
  }
 },
 "nbformat": 4,
 "nbformat_minor": 2
}
